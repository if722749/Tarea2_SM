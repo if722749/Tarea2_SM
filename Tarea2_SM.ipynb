{
 "cells": [
  {
   "cell_type": "markdown",
   "metadata": {},
   "source": [
    "## Tarea 2 Simulación Matemática\n",
    "Luis Felipe Gómez Estrada"
   ]
  },
  {
   "cell_type": "markdown",
   "metadata": {},
   "source": [
    "Últimamente, Python se ha convertido uno de los lenguajes más utilizados en el mundo debido a que tiene un amplio rango de aplicaciones mediante el uso de distintas API's, junto con sus características multi-paradigmas. Una de las aplicaciones principales de python en los negocios es el análisis de Big Data e inteligencia artificial para la toma de decisiones, que ha añadido un inmenso valor a las compañías siendo la tendencia con mayor valor actualmente.  \n",
    "\n",
    "La sintaxis de Python suele ser muy amigable para nuevos programadores debido a sus funciones integradas que ayudan al usuario para poder hacer \"mucho\" con pocas líneas de código.\n",
    "[Tech Republic](https://www.techrepublic.com/article/why-python-is-so-popular-with-developers-3-reasons-the-language-has-exploded/)"
   ]
  },
  {
   "cell_type": "markdown",
   "metadata": {},
   "source": [
    "La popularidad de Python ha aumentado considerablemente estos últimos años, las ventajas principales de este lenguaje es su simplicidad y su flexibilidad, con más de de 145,000 API's públicas que cubren desde desarrollo de juegos o interfaces web hasta modelos de inteligencia artificial, incluso aplicaciones para web scrapping utilizando Selenium.  \n",
    "\n",
    "Con este crecimiento se podría pensar que los demás lenguajes quedarán obsoletos, pero los lenguajes de Bajo nivel (C, C++) tienen más control sobre el procesador y memoria de la computadora, otros lenguajes como Java serían imposible de reemplazar debido a las aplicaciones que se desarrollan ahí.\n",
    "[The Economist](https://www.economist.com/graphic-detail/2018/07/26/python-is-becoming-the-worlds-most-popular-coding-language)"
   ]
  },
  {
   "cell_type": "code",
   "execution_count": null,
   "metadata": {},
   "outputs": [],
   "source": []
  }
 ],
 "metadata": {
  "kernelspec": {
   "display_name": "Python 3",
   "language": "python",
   "name": "python3"
  },
  "language_info": {
   "codemirror_mode": {
    "name": "ipython",
    "version": 3
   },
   "file_extension": ".py",
   "mimetype": "text/x-python",
   "name": "python",
   "nbconvert_exporter": "python",
   "pygments_lexer": "ipython3",
   "version": "3.7.6"
  }
 },
 "nbformat": 4,
 "nbformat_minor": 4
}
